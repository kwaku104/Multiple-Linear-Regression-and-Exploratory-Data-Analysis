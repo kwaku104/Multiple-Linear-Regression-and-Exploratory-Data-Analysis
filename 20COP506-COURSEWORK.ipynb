{
 "cells": [
  {
   "cell_type": "markdown",
   "metadata": {},
   "source": [
    "# KWAKU APPIAH-ADU - F020738\n",
    "# 20COP506 COURSE WORK\n",
    "## Table of Contents\n",
    "* Title & Abstract\n",
    "* Objectives of this Tutorial\n",
    "* Similar Tutorials Online (References)"
   ]
  },
  {
   "cell_type": "markdown",
   "metadata": {},
   "source": [
    "# Title & Abstract\n",
    "## Multiple Linear Regression and Exploratory Data Analysis With Scikit-learn & Matplotlib\n",
    "In this tutorial I will briefly implement Multiple Linear Regression in Python 3 using at least three functions from Scikit-learn and Matplotlib.\n",
    "Linear Regression is a supervised machine learning algorithm where the predicted output is continuous and has a constant slope. Multiple linear regression involves more than two variables 𝑓(𝑥,𝑦,𝑧)=𝑤1𝑥+𝑤2𝑦+𝑤3𝑧 where 𝑤 represents the weights our model will try to learn and 𝑥,𝑦,𝑧 represent the attributes about each observation. I'll use some packages in addition to better explain this tutorial.\n",
    "\n",
    "_Reference: Source [1]_"
   ]
  },
  {
   "cell_type": "markdown",
   "metadata": {},
   "source": [
    "# Objectives of this Tutorial\n",
    "* Use Exploratory Data Anlysis to understand and gather insights from the dataset\n",
    "* Understand how Multiple Linear Regression can be used to predict continuous values using Scikit-learn and Matplotlib.\n",
    "* Evaluate performance of the algorithm (Multiple Linear Regression) on the dataset\n",
    "* Predict the number of O-rings that will experience thermal distress for a given flight when the launch temperature is below freezing."
   ]
  },
  {
   "cell_type": "markdown",
   "metadata": {},
   "source": [
    "# Similar Tutorials\n",
    "Inspriation for this tutorial taken was from [Stack Abuse - Linear Regression in Python with Scikit-Learn](https://ml-cheatsheet.readthedocs.io/en/latest/linear_regression.html#:~:text=Linear%20Regression%20is%20a%20supervised,Simple%20regression), [What is Exploratory Data Analysis?](https://towardsdatascience.com/exploratory-data-analysis-8fc1cb20fd15) and [Exploratory_Data_Analysis-Wine_Quality_Dataset / winequality_white.ipynb](https://nbviewer.jupyter.org/github/PBPatil/Exploratory_Data_Analysis-Wine_Quality_Dataset/blob/master/winequality_white.ipynb#Data-Insights). The main difference between the above mentioned tutorials and this coursework is that in this coursework I demostrate how Exploratary Data Analysis (EDA) and Multiple Linear Regression can be used hand in hand and how results from EDA help improve our model accuracy. \n",
    "## References\n",
    "* [1. ML Glossary - Linear Regression](https://ml-cheatsheet.readthedocs.io/en/latest/linear_regression.html#:~:text=Linear%20Regression%20is%20a%20supervised,Simple%20regression)\n",
    "* [2. Stack Abuse - Linear Regression in Python with Scikit-Learn](https://stackabuse.com/linear-regression-in-python-with-scikit-learn/)\n",
    "* [3. Data to Fish - Example of Multiple Linear Regression in Python](https://datatofish.com/multiple-linear-regression-python/)\n",
    "* [4. Towards Data Science - What is Exploratory Data Analysis?](https://towardsdatascience.com/exploratory-data-analysis-8fc1cb20fd15)\n",
    "* [5. Exploratory_Data_Analysis-Wine_Quality_Dataset / winequality_white.ipynb](https://nbviewer.jupyter.org/github/PBPatil/Exploratory_Data_Analysis-Wine_Quality_Dataset/blob/master/winequality_white.ipynb#Data-Insights)\n",
    "* [6. Challenger USA Space Shuttle O-Ring Data Set](https://archive.ics.uci.edu/ml/datasets/Challenger+USA+Space+Shuttle+O-Ring)"
   ]
  },
  {
   "cell_type": "markdown",
   "metadata": {},
   "source": [
    "# Exploratory Data Analysis With Matplotlib\n",
    "First we begin with ** Exploratory Data Analysis ** of the dataset to understand and gather insights from the dataset.\n",
    "* We will use the ** pyplot ** from ** matloplib ** along with other functions from seaborn to create a heatmap, correlation matrix, boxplot and distribution plot to visualise our dataset."
   ]
  },
  {
   "cell_type": "markdown",
   "metadata": {},
   "source": [
    "## Import Packages"
   ]
  },
  {
   "cell_type": "code",
   "execution_count": 262,
   "metadata": {},
   "outputs": [],
   "source": [
    "# Import packages required\n",
    "import pandas as pd\n",
    "import numpy as np\n",
    "import matplotlib.pyplot as plt\n",
    "%matplotlib inline\n",
    "from sklearn.model_selection import train_test_split\n",
    "from sklearn.linear_model import LinearRegression\n",
    "from sklearn import metrics\n",
    "from sklearn.metrics import mean_squared_error, r2_score, accuracy_score\n",
    "import seaborn as sns"
   ]
  },
  {
   "cell_type": "markdown",
   "metadata": {},
   "source": [
    "## Load The Dataset\n",
    "This dataset was obtained from the [UCI Machine Learning Repository](https://archive.ics.uci.edu/ml/datasets/Challenger+USA+Space+Shuttle+O-Ring). The motivation for the collection of this data was the explosion of the USA Space Shuttle Challenger on 28 January, 1986. After investigation results showed that one of the three field joints on one of the two solid booster rockets had failed due to low launch temperature.\n",
    "* The \".read_csv()\" function of the pandas package imports the dataset.\n",
    "\n",
    "_Reference: Source [6]_"
   ]
  },
  {
   "cell_type": "code",
   "execution_count": 263,
   "metadata": {},
   "outputs": [],
   "source": [
    "# Import data with pandas\n",
    "data = pd.read_csv('o-ring-erosion-only.csv')"
   ]
  },
  {
   "cell_type": "code",
   "execution_count": 264,
   "metadata": {},
   "outputs": [
    {
     "name": "stdout",
     "output_type": "stream",
     "text": [
      "    6  0  66   50   1\n",
      "0   6  1  70   50   2\n",
      "1   6  0  69   50   3\n",
      "2   6  0  68   50   4\n",
      "3   6  0  67   50   5\n",
      "4   6  0  72   50   6\n",
      "5   6  0  73  100   7\n",
      "6   6  0  70  100   8\n",
      "7   6  1  57  200   9\n",
      "8   6  1  63  200  10\n",
      "9   6  1  70  200  11\n",
      "10  6  0  78  200  12\n",
      "11  6  0  67  200  13\n",
      "12  6  2  53  200  14\n",
      "13  6  0  67  200  15\n",
      "14  6  0  75  200  16\n",
      "15  6  0  70  200  17\n",
      "16  6  0  81  200  18\n",
      "17  6  0  76  200  19\n",
      "18  6  0  79  200  20\n",
      "19  6  0  75  200  21\n",
      "20  6  0  76  200  22\n",
      "21  6  1  58  200  23\n"
     ]
    }
   ],
   "source": [
    "# Print the imported data to see what data looks like\n",
    "print(data)"
   ]
  },
  {
   "cell_type": "markdown",
   "metadata": {},
   "source": [
    "## Labeling of columns in Dataset\n",
    "* The dataset does not include column names and so we add column names to the dataset with the \".columns()\" function of the pandas package. \n",
    "* The \".head()\" function of the pandas package returns the first five rows of the dataset."
   ]
  },
  {
   "cell_type": "code",
   "execution_count": 265,
   "metadata": {},
   "outputs": [
    {
     "data": {
      "text/html": [
       "<div>\n",
       "<style scoped>\n",
       "    .dataframe tbody tr th:only-of-type {\n",
       "        vertical-align: middle;\n",
       "    }\n",
       "\n",
       "    .dataframe tbody tr th {\n",
       "        vertical-align: top;\n",
       "    }\n",
       "\n",
       "    .dataframe thead th {\n",
       "        text-align: right;\n",
       "    }\n",
       "</style>\n",
       "<table border=\"1\" class=\"dataframe\">\n",
       "  <thead>\n",
       "    <tr style=\"text-align: right;\">\n",
       "      <th></th>\n",
       "      <th>Number of O-rings at risk on a given flight</th>\n",
       "      <th>Number experiencing thermal distress</th>\n",
       "      <th>Launch temperature (degrees F)</th>\n",
       "      <th>Leak-check pressure (psi)</th>\n",
       "      <th>Temporal order of flight</th>\n",
       "    </tr>\n",
       "  </thead>\n",
       "  <tbody>\n",
       "    <tr>\n",
       "      <th>0</th>\n",
       "      <td>6</td>\n",
       "      <td>1</td>\n",
       "      <td>70</td>\n",
       "      <td>50</td>\n",
       "      <td>2</td>\n",
       "    </tr>\n",
       "    <tr>\n",
       "      <th>1</th>\n",
       "      <td>6</td>\n",
       "      <td>0</td>\n",
       "      <td>69</td>\n",
       "      <td>50</td>\n",
       "      <td>3</td>\n",
       "    </tr>\n",
       "    <tr>\n",
       "      <th>2</th>\n",
       "      <td>6</td>\n",
       "      <td>0</td>\n",
       "      <td>68</td>\n",
       "      <td>50</td>\n",
       "      <td>4</td>\n",
       "    </tr>\n",
       "    <tr>\n",
       "      <th>3</th>\n",
       "      <td>6</td>\n",
       "      <td>0</td>\n",
       "      <td>67</td>\n",
       "      <td>50</td>\n",
       "      <td>5</td>\n",
       "    </tr>\n",
       "    <tr>\n",
       "      <th>4</th>\n",
       "      <td>6</td>\n",
       "      <td>0</td>\n",
       "      <td>72</td>\n",
       "      <td>50</td>\n",
       "      <td>6</td>\n",
       "    </tr>\n",
       "  </tbody>\n",
       "</table>\n",
       "</div>"
      ],
      "text/plain": [
       "   Number of O-rings at risk on a given flight  \\\n",
       "0                                            6   \n",
       "1                                            6   \n",
       "2                                            6   \n",
       "3                                            6   \n",
       "4                                            6   \n",
       "\n",
       "   Number experiencing thermal distress  Launch temperature (degrees F)  \\\n",
       "0                                     1                              70   \n",
       "1                                     0                              69   \n",
       "2                                     0                              68   \n",
       "3                                     0                              67   \n",
       "4                                     0                              72   \n",
       "\n",
       "   Leak-check pressure (psi)  Temporal order of flight  \n",
       "0                         50                         2  \n",
       "1                         50                         3  \n",
       "2                         50                         4  \n",
       "3                         50                         5  \n",
       "4                         50                         6  "
      ]
     },
     "execution_count": 265,
     "metadata": {},
     "output_type": "execute_result"
    }
   ],
   "source": [
    "# Label Dataset\n",
    "data.columns = ['Number of O-rings at risk on a given flight', 'Number experiencing thermal distress', 'Launch temperature (degrees F)', 'Leak-check pressure (psi)', 'Temporal order of flight']\n",
    "data.head()"
   ]
  },
  {
   "cell_type": "code",
   "execution_count": 266,
   "metadata": {},
   "outputs": [
    {
     "data": {
      "text/plain": [
       "(22, 5)"
      ]
     },
     "execution_count": 266,
     "metadata": {},
     "output_type": "execute_result"
    }
   ],
   "source": [
    "# View number of rows and columns in the dataset\n",
    "data.shape"
   ]
  },
  {
   "cell_type": "markdown",
   "metadata": {},
   "source": [
    "## Summary of Statistical Details\n",
    "* The \".describe()\" function of pandas calculates the count, mean, standard deviation, minimum, maximum and the quartiles of the data set and returns them in a table format.\n",
    "* Statistical data is important for gaining insights on properties of the dataset."
   ]
  },
  {
   "cell_type": "code",
   "execution_count": 267,
   "metadata": {},
   "outputs": [
    {
     "data": {
      "text/html": [
       "<div>\n",
       "<style scoped>\n",
       "    .dataframe tbody tr th:only-of-type {\n",
       "        vertical-align: middle;\n",
       "    }\n",
       "\n",
       "    .dataframe tbody tr th {\n",
       "        vertical-align: top;\n",
       "    }\n",
       "\n",
       "    .dataframe thead th {\n",
       "        text-align: right;\n",
       "    }\n",
       "</style>\n",
       "<table border=\"1\" class=\"dataframe\">\n",
       "  <thead>\n",
       "    <tr style=\"text-align: right;\">\n",
       "      <th></th>\n",
       "      <th>Number of O-rings at risk on a given flight</th>\n",
       "      <th>Number experiencing thermal distress</th>\n",
       "      <th>Launch temperature (degrees F)</th>\n",
       "      <th>Leak-check pressure (psi)</th>\n",
       "      <th>Temporal order of flight</th>\n",
       "    </tr>\n",
       "  </thead>\n",
       "  <tbody>\n",
       "    <tr>\n",
       "      <th>count</th>\n",
       "      <td>22.0</td>\n",
       "      <td>22.000000</td>\n",
       "      <td>22.000000</td>\n",
       "      <td>22.000000</td>\n",
       "      <td>22.000000</td>\n",
       "    </tr>\n",
       "    <tr>\n",
       "      <th>mean</th>\n",
       "      <td>6.0</td>\n",
       "      <td>0.318182</td>\n",
       "      <td>69.727273</td>\n",
       "      <td>156.818182</td>\n",
       "      <td>12.500000</td>\n",
       "    </tr>\n",
       "    <tr>\n",
       "      <th>std</th>\n",
       "      <td>0.0</td>\n",
       "      <td>0.567900</td>\n",
       "      <td>7.179215</td>\n",
       "      <td>66.000459</td>\n",
       "      <td>6.493587</td>\n",
       "    </tr>\n",
       "    <tr>\n",
       "      <th>min</th>\n",
       "      <td>6.0</td>\n",
       "      <td>0.000000</td>\n",
       "      <td>53.000000</td>\n",
       "      <td>50.000000</td>\n",
       "      <td>2.000000</td>\n",
       "    </tr>\n",
       "    <tr>\n",
       "      <th>25%</th>\n",
       "      <td>6.0</td>\n",
       "      <td>0.000000</td>\n",
       "      <td>67.000000</td>\n",
       "      <td>100.000000</td>\n",
       "      <td>7.250000</td>\n",
       "    </tr>\n",
       "    <tr>\n",
       "      <th>50%</th>\n",
       "      <td>6.0</td>\n",
       "      <td>0.000000</td>\n",
       "      <td>70.000000</td>\n",
       "      <td>200.000000</td>\n",
       "      <td>12.500000</td>\n",
       "    </tr>\n",
       "    <tr>\n",
       "      <th>75%</th>\n",
       "      <td>6.0</td>\n",
       "      <td>0.750000</td>\n",
       "      <td>75.000000</td>\n",
       "      <td>200.000000</td>\n",
       "      <td>17.750000</td>\n",
       "    </tr>\n",
       "    <tr>\n",
       "      <th>max</th>\n",
       "      <td>6.0</td>\n",
       "      <td>2.000000</td>\n",
       "      <td>81.000000</td>\n",
       "      <td>200.000000</td>\n",
       "      <td>23.000000</td>\n",
       "    </tr>\n",
       "  </tbody>\n",
       "</table>\n",
       "</div>"
      ],
      "text/plain": [
       "       Number of O-rings at risk on a given flight  \\\n",
       "count                                         22.0   \n",
       "mean                                           6.0   \n",
       "std                                            0.0   \n",
       "min                                            6.0   \n",
       "25%                                            6.0   \n",
       "50%                                            6.0   \n",
       "75%                                            6.0   \n",
       "max                                            6.0   \n",
       "\n",
       "       Number experiencing thermal distress  Launch temperature (degrees F)  \\\n",
       "count                             22.000000                       22.000000   \n",
       "mean                               0.318182                       69.727273   \n",
       "std                                0.567900                        7.179215   \n",
       "min                                0.000000                       53.000000   \n",
       "25%                                0.000000                       67.000000   \n",
       "50%                                0.000000                       70.000000   \n",
       "75%                                0.750000                       75.000000   \n",
       "max                                2.000000                       81.000000   \n",
       "\n",
       "       Leak-check pressure (psi)  Temporal order of flight  \n",
       "count                  22.000000                 22.000000  \n",
       "mean                  156.818182                 12.500000  \n",
       "std                    66.000459                  6.493587  \n",
       "min                    50.000000                  2.000000  \n",
       "25%                   100.000000                  7.250000  \n",
       "50%                   200.000000                 12.500000  \n",
       "75%                   200.000000                 17.750000  \n",
       "max                   200.000000                 23.000000  "
      ]
     },
     "execution_count": 267,
     "metadata": {},
     "output_type": "execute_result"
    }
   ],
   "source": [
    "# Calculate Descriptive Statistics\n",
    "data.describe()"
   ]
  },
  {
   "cell_type": "markdown",
   "metadata": {},
   "source": [
    "## Check Correlation\n",
    "### Correlation Heatmap\n",
    "Checking for correlated varaiables in the dataset is important for improving your linear regression model.\n",
    "*  Here we use \".corr()\" function from pandas to calculate the correlations and use the \".figure()\" and \".heatmap()\" functions from matplotlib and seaborn to visualise the correlation on a heatmap."
   ]
  },
  {
   "cell_type": "code",
   "execution_count": 268,
   "metadata": {},
   "outputs": [
    {
     "data": {
      "text/plain": [
       "<matplotlib.axes._subplots.AxesSubplot at 0x7f97c868c5f8>"
      ]
     },
     "execution_count": 268,
     "metadata": {},
     "output_type": "execute_result"
    },
    {
     "data": {
      "image/png": "[encoded data removed]",
      "text/plain": [
       "<matplotlib.figure.Figure at 0x7f97c86bd5c0>"
      ]
     },
     "metadata": {},
     "output_type": "display_data"
    }
   ],
   "source": [
    "# Heatmap code as from source [5]\n",
    "\n",
    "plt.figure(figsize=(6,4))\n",
    "sns.heatmap(data.corr(),cmap='Blues',annot=False)\n",
    "\n",
    "### end of source [5]\n",
    "# source [5] https://nbviewer.jupyter.org/github/PBPatil/\n",
    "# Exploratory_Data_Analysis-Wine_Quality_Dataset/blob/master/winequality_white.ipynb#Data-Insights"
   ]
  },
  {
   "cell_type": "markdown",
   "metadata": {},
   "source": [
    "### Observations from Correlation Heatmap\n",
    "* Dark shades represent positive correlation while lighter shades represent negative correlation\n",
    "* From the Heatmap we notice that launch temperature (independent variable) has a negative correlation with  number of O-rings experiencing thermal distress (dependent variable) which is what we are predicting.\n",
    "* Thus this observation suggests that as the launch temperature increases the number of O-rings experiencing thermal distress decreases.\n",
    "* The explosion of the USA Space Shuttle is dependent on the number of O-rings experiencing thermal distress.\n",
    "\n",
    "_Reference: Source [4]_"
   ]
  },
  {
   "cell_type": "markdown",
   "metadata": {},
   "source": [
    "### Correlation Matrix\n",
    "* Here we use \".corr()\" function from pandas to calculate the correlations and use the \".figure()\" and \".heatmap()\" functions from matplotlib and seaborn to visualise the correlation matrix on a heatmap. \n",
    "* Setting \"annot=True\" displays the correlation values on the heatmap."
   ]
  },
  {
   "cell_type": "code",
   "execution_count": 269,
   "metadata": {},
   "outputs": [
    {
     "data": {
      "text/plain": [
       "<matplotlib.axes._subplots.AxesSubplot at 0x7f97c869c390>"
      ]
     },
     "execution_count": 269,
     "metadata": {},
     "output_type": "execute_result"
    },
    {
     "data": {
      "image/png": "[encoded data removed]",
      "text/plain": [
       "<matplotlib.figure.Figure at 0x7f97e8813748>"
      ]
     },
     "metadata": {},
     "output_type": "display_data"
    }
   ],
   "source": [
    "# Correlation matrix code as from source [5]\n",
    "\n",
    "#correlation matrix\n",
    "k = 5 #number of variables for heatmap\n",
    "cols = data.corr().nlargest(k, 'Number experiencing thermal distress')['Number experiencing thermal distress'].index\n",
    "cm = data[cols].corr()\n",
    "plt.figure(figsize=(10,6))\n",
    "sns.heatmap(cm, annot=True, cmap = 'viridis')\n",
    "\n",
    "### end of source [5]\n",
    "### source [5] https://nbviewer.jupyter.org/github/PBPatil/\n",
    "## Exploratory_Data_Analysis-Wine_Quality_Dataset/blob/master/winequality_white.ipynb#Data-Insights\n"
   ]
  },
  {
   "cell_type": "markdown",
   "metadata": {},
   "source": [
    "### Observations from Correlation Matrix\n",
    "* From the correlation matrix we can observe that \"temporal order of flight\" has almost no correlation with \"Number experiencing thermal distress\".\n",
    "* Thus we can decide to drop \"temporal order of flight\". This is because zero correlation shows there is no linear relationship between the two features."
   ]
  },
  {
   "cell_type": "markdown",
   "metadata": {},
   "source": [
    "## Boxplot\n",
    "Boxplots are used to visualise the distribution of data using 5 types of descriptive statistics:\n",
    "* Minimum\n",
    "* First quartile\n",
    "* Median\n",
    "* Third quartile\n",
    "* Maximum\n",
    "\n",
    "The rectangle at the centre of each boxplot extends from the upper fourth (first quartile) to the lower fourth  (third quartile) which can be referred to as the interquartile range.\n",
    "\n",
    "The median can be seen in each of the rectangles. For example in the launch temperature rectangle the median 70 is shown in the middle of the box. The whiskers can also be seen  above and below the boxes which show the minimum and maximum values.\n",
    "\n",
    "* Here we use the \".figure()\" function again from matplotlib for our figure size.\n",
    "* We also use the \".subplot()\" function to create figures and grids of subplots with multiple calls using our for loop based on the length of our data.\n",
    "* The \".tight_layout()\" function from matplotlib automatically adjusts the space between our subplots to prevent the overlapping of labels.\n",
    "\n",
    "_Reference: Source [4]_"
   ]
  },
  {
   "cell_type": "code",
   "execution_count": 270,
   "metadata": {},
   "outputs": [
    {
     "data": {
      "image/png": "[encoded data removed]",
      "text/plain": [
       "<matplotlib.figure.Figure at 0x7f979a1fb080>"
      ]
     },
     "metadata": {},
     "output_type": "display_data"
    }
   ],
   "source": [
    "# Boxplot code as from source [5]\n",
    "\n",
    "length = data.columns.values\n",
    "column_count=5\n",
    "data_length = len(length)\n",
    "row_count = data_length-1/column_count\n",
    "plt.figure(figsize=(column_count,5*row_count))\n",
    "for i in range(data_length):\n",
    "    plt.subplot(row_count + 1,column_count,i+1)\n",
    "    sns.set_style('whitegrid')\n",
    "    sns.boxplot(data[length[i]],color='green',orient='v')\n",
    "    plt.tight_layout()\n",
    "    \n",
    "### end of source [5]\n",
    "# source [5] https://nbviewer.jupyter.org/github/PBPatil/\n",
    "# Exploratory_Data_Analysis-Wine_Quality_Dataset/blob/master/winequality_white.ipynb#Data-Insights"
   ]
  },
  {
   "cell_type": "markdown",
   "metadata": {},
   "source": [
    "### Observations\n",
    "* Only two outliers exist in our dataset which can be seen in the Launch temperature rectangle and the Number experiencing thermal distress rectangle."
   ]
  },
  {
   "cell_type": "markdown",
   "metadata": {},
   "source": [
    "## Distribution Graph\n",
    "Distribution graphs are used to check the linearity of the variables. This allows us to see the skewness of the features.\n",
    "* Here we use the \".figure()\" and \".subplot()\" functions as we did in the previous visualisations.\n",
    "* The \".displot()\" function from seaborn creates our distribution graph."
   ]
  },
  {
   "cell_type": "code",
   "execution_count": 271,
   "metadata": {},
   "outputs": [
    {
     "name": "stderr",
     "output_type": "stream",
     "text": [
      "/Users/kwakuappiah-adu/anaconda3/lib/python3.6/site-packages/statsmodels/nonparametric/kde.py:494: RuntimeWarning: invalid value encountered in true_divide\n",
      "  binned = fast_linbin(X,a,b,gridsize)/(delta*nobs)\n",
      "/Users/kwakuappiah-adu/anaconda3/lib/python3.6/site-packages/statsmodels/nonparametric/kdetools.py:34: RuntimeWarning: invalid value encountered in double_scalars\n",
      "  FAC1 = 2*(np.pi*bw/RANGE)**2\n",
      "/Users/kwakuappiah-adu/anaconda3/lib/python3.6/site-packages/numpy/core/_methods.py:26: RuntimeWarning: invalid value encountered in reduce\n",
      "  return umr_maximum(a, axis, None, out, keepdims)\n"
     ]
    },
    {
     "data": {
      "image/png": "[encoded data removed]",
      "text/plain": [
       "<matplotlib.figure.Figure at 0x7f97f8c51b70>"
      ]
     },
     "metadata": {},
     "output_type": "display_data"
    }
   ],
   "source": [
    "# Distribution Graph code as from source [5]\n",
    "\n",
    "plt.figure(figsize=(4*number_of_columns,5*number_of_rows))\n",
    "for i in range(0,len(l)):\n",
    "    plt.subplot(number_of_rows + 1,number_of_columns,i+1)\n",
    "    sns.distplot(data[l[i]],kde=True)\n",
    "    \n",
    "### end of source [5]\n",
    "# source [5] https://nbviewer.jupyter.org/github/PBPatil/\n",
    "# Exploratory_Data_Analysis-Wine_Quality_Dataset/blob/master/winequality_white.ipynb#Data-Insights"
   ]
  },
  {
   "cell_type": "markdown",
   "metadata": {},
   "source": [
    "### Observations\n",
    "* The \"Temporal order of flight\" seems to be normally distributed.\n",
    "* The rest of the graphs appear to be skewed to the right (positively skewed).\n",
    "\n",
    "_Reference: Source [4]_"
   ]
  },
  {
   "cell_type": "markdown",
   "metadata": {},
   "source": [
    "## Scatter Diagram To Check for Linearity\n",
    "Before we jump to implementing Multiple Linear Regression, we're going to check the linear relationship between \"Launch Temperature\" which is an independent variable and \"Number experiencing thermal distress\" which is the dependent variable.\n",
    "\n",
    "We chose \"Launch Temperature\" because from our correlation diagrams we observed that it has a negative correlation with Number experiencing thermal distress.\n",
    "* The \".scatter()\" function from matplotlib is used to create a scatter plot of x and y data."
   ]
  },
  {
   "cell_type": "code",
   "execution_count": 272,
   "metadata": {},
   "outputs": [
    {
     "data": {
      "image/png": "[encoded data removed]",
      "text/plain": [
       "<matplotlib.figure.Figure at 0x7f97f8c51cf8>"
      ]
     },
     "metadata": {},
     "output_type": "display_data"
    }
   ],
   "source": [
    "# Scatter plot code as from source [3]\n",
    "\n",
    "plt.scatter(data['Launch temperature (degrees F)'], data['Number experiencing thermal distress'], color='blue')\n",
    "plt.title('Number experiencing thermal distress Vs Launch temperature (degrees F)', fontsize=14)\n",
    "plt.xlabel('Launch temperature (degrees F)', fontsize=14)\n",
    "plt.ylabel('Number experiencing thermal distress', fontsize=14)\n",
    "plt.grid(True)\n",
    "plt.tight_layout()\n",
    "plt.show()\n",
    "\n",
    "\n",
    "# end of source [3]\n",
    "# source [3] https://datatofish.com/multiple-linear-regression-python/"
   ]
  },
  {
   "cell_type": "markdown",
   "metadata": {},
   "source": [
    "### Observations\n",
    "* There is a linear relationship between Launch Temperature and Number experiencing thermal distress.\n",
    "* As the temperature increases the number experiencing thermal distress decreases"
   ]
  },
  {
   "cell_type": "markdown",
   "metadata": {},
   "source": [
    "# Multiple Linear Regression\n",
    "Now we use the ** train_test_split **, ** LinearRegression **, ** metrics **, ** mean_squared_error **, **r2_score** from ** Scikit-learn ** to perform ** Multiple Linear Regression ** on the dataset.\n",
    "\n",
    "We will use multiple linear regression to predict the number of O-rings that will experience thermal distress for a given flight when the launch temperature is below freezing."
   ]
  },
  {
   "cell_type": "code",
   "execution_count": 273,
   "metadata": {},
   "outputs": [],
   "source": [
    "# Data splitting code as from source [2]\n",
    "\n",
    "# Split the data into Attributes and Labels\n",
    "X = data[['Number of O-rings at risk on a given flight', 'Launch temperature (degrees F)', 'Leak-check pressure (psi)',\n",
    "       'Temporal order of flight']]\n",
    "y = data['Number experiencing thermal distress']\n",
    "\n",
    "### end of source [2]\n",
    "# https://stackabuse.com/linear-regression-in-python-with-scikit-learn/"
   ]
  },
  {
   "cell_type": "markdown",
   "metadata": {},
   "source": [
    "## Split Data into Test and Training Datasets\n",
    "We split the data in order to use part of it to train the model and the other part to make predictions so as to evaluate how well the model is performing.\n",
    "* We use the \"train_test_split()\" method of Scikit-Learn to split the dataset into 80% for training and 20% for testing. The \"random_state\" argument splits the data randomly."
   ]
  },
  {
   "cell_type": "code",
   "execution_count": 274,
   "metadata": {},
   "outputs": [],
   "source": [
    "# Data splitting code as from source [2]\n",
    "\n",
    "# Split data into training and tests\n",
    "X_train, X_test, y_train, y_test = train_test_split(X, y, test_size=0.2, random_state=123)\n",
    "\n",
    "### end of source [2]\n",
    "# https://stackabuse.com/linear-regression-in-python-with-scikit-learn/"
   ]
  },
  {
   "cell_type": "markdown",
   "metadata": {},
   "source": [
    "## Train the Algorithm\n",
    "Scikit-Learn has a LinearRegression class that we use to implement linear regression on our dataset.\n",
    "* We instantiate the LinearRegression class with \"regr = LinearRegression()\" and call the \".fit()\" method of the class to train our algorithm.\n",
    "\n",
    "_Reference: Source [2]_"
   ]
  },
  {
   "cell_type": "code",
   "execution_count": 275,
   "metadata": {},
   "outputs": [
    {
     "data": {
      "text/plain": [
       "LinearRegression(copy_X=True, fit_intercept=True, n_jobs=1, normalize=False)"
      ]
     },
     "execution_count": 275,
     "metadata": {},
     "output_type": "execute_result"
    }
   ],
   "source": [
    "# Training Algorithm code as from source [2]\n",
    "\n",
    "# Training the algorithm\n",
    "regr = LinearRegression()\n",
    "regr.fit(X_train, y_train)\n",
    "\n",
    "### end of source [2]\n",
    "# https://stackabuse.com/linear-regression-in-python-with-scikit-learn/"
   ]
  },
  {
   "cell_type": "markdown",
   "metadata": {},
   "source": [
    "## Find the Weights\n",
    "As mentioned in the abstract our model will try to learn the weights in 𝑓(𝑥,𝑦,𝑧)=𝑤1𝑥+𝑤2𝑦+𝑤3𝑧 where 𝑤 represents the weights, also known as the coefficients.\n",
    "* We use the \".coef_\" method of the Linear regression class to find the weights for each feature."
   ]
  },
  {
   "cell_type": "code",
   "execution_count": 276,
   "metadata": {},
   "outputs": [
    {
     "data": {
      "text/html": [
       "<div>\n",
       "<style scoped>\n",
       "    .dataframe tbody tr th:only-of-type {\n",
       "        vertical-align: middle;\n",
       "    }\n",
       "\n",
       "    .dataframe tbody tr th {\n",
       "        vertical-align: top;\n",
       "    }\n",
       "\n",
       "    .dataframe thead th {\n",
       "        text-align: right;\n",
       "    }\n",
       "</style>\n",
       "<table border=\"1\" class=\"dataframe\">\n",
       "  <thead>\n",
       "    <tr style=\"text-align: right;\">\n",
       "      <th></th>\n",
       "      <th>Weights</th>\n",
       "    </tr>\n",
       "  </thead>\n",
       "  <tbody>\n",
       "    <tr>\n",
       "      <th>Number of O-rings at risk on a given flight</th>\n",
       "      <td>0.000000</td>\n",
       "    </tr>\n",
       "    <tr>\n",
       "      <th>Launch temperature (degrees F)</th>\n",
       "      <td>-0.059365</td>\n",
       "    </tr>\n",
       "    <tr>\n",
       "      <th>Leak-check pressure (psi)</th>\n",
       "      <td>0.003318</td>\n",
       "    </tr>\n",
       "    <tr>\n",
       "      <th>Temporal order of flight</th>\n",
       "      <td>-0.024500</td>\n",
       "    </tr>\n",
       "  </tbody>\n",
       "</table>\n",
       "</div>"
      ],
      "text/plain": [
       "                                              Weights\n",
       "Number of O-rings at risk on a given flight  0.000000\n",
       "Launch temperature (degrees F)              -0.059365\n",
       "Leak-check pressure (psi)                    0.003318\n",
       "Temporal order of flight                    -0.024500"
      ]
     },
     "execution_count": 276,
     "metadata": {},
     "output_type": "execute_result"
    }
   ],
   "source": [
    "# Finding Weights code as from source [2]\n",
    "\n",
    "weights = pd.DataFrame(regr.coef_, X.columns, columns=['Weights'])\n",
    "weights\n",
    "\n",
    "### end of source [2]\n",
    "# https://stackabuse.com/linear-regression-in-python-with-scikit-learn/"
   ]
  },
  {
   "cell_type": "markdown",
   "metadata": {},
   "source": [
    "## Make Predictions\n",
    "Finally we predict the number of O-rings that will experience thermal distress for a given flight when the launch temperature is below freezing.\n",
    "* We make predictions using test data X_test that we split from the dataset earlier.\n",
    "* We use the \".predict()\" method from Scikit-Learn to do this."
   ]
  },
  {
   "cell_type": "code",
   "execution_count": 277,
   "metadata": {},
   "outputs": [],
   "source": [
    "# Finding Weights code as from source [2]\n",
    "\n",
    "y_pred = regr.predict(X_test)\n",
    "\n",
    "### end of source [2]\n",
    "# https://stackabuse.com/linear-regression-in-python-with-scikit-learn/"
   ]
  },
  {
   "cell_type": "markdown",
   "metadata": {},
   "source": [
    "## Compare\n",
    "Now we compare the values from the prediction with the actual values from the test data X_test.\n",
    "\n",
    "_Reference: Source [2]_"
   ]
  },
  {
   "cell_type": "code",
   "execution_count": 278,
   "metadata": {},
   "outputs": [
    {
     "data": {
      "text/html": [
       "<div>\n",
       "<style scoped>\n",
       "    .dataframe tbody tr th:only-of-type {\n",
       "        vertical-align: middle;\n",
       "    }\n",
       "\n",
       "    .dataframe tbody tr th {\n",
       "        vertical-align: top;\n",
       "    }\n",
       "\n",
       "    .dataframe thead th {\n",
       "        text-align: right;\n",
       "    }\n",
       "</style>\n",
       "<table border=\"1\" class=\"dataframe\">\n",
       "  <thead>\n",
       "    <tr style=\"text-align: right;\">\n",
       "      <th></th>\n",
       "      <th>Actual</th>\n",
       "      <th>Predicted</th>\n",
       "    </tr>\n",
       "  </thead>\n",
       "  <tbody>\n",
       "    <tr>\n",
       "      <th>4</th>\n",
       "      <td>0</td>\n",
       "      <td>0.024038</td>\n",
       "    </tr>\n",
       "    <tr>\n",
       "      <th>7</th>\n",
       "      <td>1</td>\n",
       "      <td>1.338668</td>\n",
       "    </tr>\n",
       "    <tr>\n",
       "      <th>5</th>\n",
       "      <td>0</td>\n",
       "      <td>0.106060</td>\n",
       "    </tr>\n",
       "    <tr>\n",
       "      <th>19</th>\n",
       "      <td>0</td>\n",
       "      <td>-0.023898</td>\n",
       "    </tr>\n",
       "    <tr>\n",
       "      <th>3</th>\n",
       "      <td>0</td>\n",
       "      <td>0.345361</td>\n",
       "    </tr>\n",
       "  </tbody>\n",
       "</table>\n",
       "</div>"
      ],
      "text/plain": [
       "    Actual  Predicted\n",
       "4        0   0.024038\n",
       "7        1   1.338668\n",
       "5        0   0.106060\n",
       "19       0  -0.023898\n",
       "3        0   0.345361"
      ]
     },
     "execution_count": 278,
     "metadata": {},
     "output_type": "execute_result"
    }
   ],
   "source": [
    "# Finding Weights code as from source [2]\n",
    "\n",
    "df = pd.DataFrame({'Actual': y_test, 'Predicted': y_pred})\n",
    "df\n",
    "\n",
    "### end of source [2]\n",
    "# https://stackabuse.com/linear-regression-in-python-with-scikit-learn/"
   ]
  },
  {
   "cell_type": "markdown",
   "metadata": {},
   "source": [
    "### Observation\n",
    "* From the table above we can tell that the predicted values are close to the actual values."
   ]
  },
  {
   "cell_type": "markdown",
   "metadata": {},
   "source": [
    "## Evaluate the Algorithm\n",
    "Here we use 4 metrics to evaluate the performace of Multiple Linear Regression on our dataset:\n",
    "* Mean Absolute Error\n",
    "* Mean Squared Error\n",
    "* Root Mean Squared Error\n",
    "* Coefficient of determination\n",
    "\n",
    "We use functions from Scikit-Learn to calculate each of these metric.\n",
    "\n",
    "_Reference: Source [2]_"
   ]
  },
  {
   "cell_type": "code",
   "execution_count": 279,
   "metadata": {},
   "outputs": [
    {
     "name": "stdout",
     "output_type": "stream",
     "text": [
      "Mean Absolute Error: 0.16760503781639607\n",
      "Mean Squared Error: 0.049273588298674884\n",
      "Root Mean Squared Error: 0.2219765489836142\n",
      "Coefficient of determination: 0.69\n"
     ]
    }
   ],
   "source": [
    "# Evaluating Algorithm code as from source [2]\n",
    "\n",
    "print('Mean Absolute Error:', metrics.mean_absolute_error(y_test, y_pred))\n",
    "print('Mean Squared Error:', metrics.mean_squared_error(y_test, y_pred))\n",
    "print('Root Mean Squared Error:', np.sqrt(metrics.mean_squared_error(y_test, y_pred)))\n",
    "print('Coefficient of determination: %.2f'\n",
    "      % r2_score(y_test, y_pred))\n",
    "\n",
    "### end of source [2]\n",
    "# https://stackabuse.com/linear-regression-in-python-with-scikit-learn/"
   ]
  },
  {
   "cell_type": "markdown",
   "metadata": {},
   "source": [
    "### Observation\n",
    "* From the results of our metrics we can tell that our algorithm performed well.\n",
    "* Our predictions are close to the actual values and so that minimizes the error values that we get for **MAE**, **MSE** and **RMSE**.\n",
    "* We get an **R squared** value of 0,69 which is not bad."
   ]
  }
 ],
 "metadata": {
  "kernelspec": {
   "display_name": "Python 3",
   "language": "python",
   "name": "python3"
  },
  "language_info": {
   "codemirror_mode": {
    "name": "ipython",
    "version": 3
   },
   "file_extension": ".py",
   "mimetype": "text/x-python",
   "name": "python",
   "nbconvert_exporter": "python",
   "pygments_lexer": "ipython3",
   "version": "3.6.4"
  }
 },
 "nbformat": 4,
 "nbformat_minor": 2
}
